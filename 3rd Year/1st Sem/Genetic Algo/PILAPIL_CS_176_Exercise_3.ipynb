{
 "cells": [
  {
   "cell_type": "markdown",
   "metadata": {},
   "source": [
    "# **Problem 1**\n",
    "\n",
    "**Problem Formulation:**\n",
    "*   *Representation:*\n",
    "For this problem, I chose to represent each individuals using a list which contains two integer values representing the x and y points. Both points are subject to the following upon initialization: −60 ≤ x ≤ 40, −30 ≤ y ≤ 70. To achieve this, a customInitRepeat() function was created as well as a createAttribute() function.\n",
    "\n",
    "*   *Parenthood selection:*\n",
    "For the parent selection, the program uses the varAnd() function which iterates over the offspring and produces a random number each iteration. If said number if less than the crossover probability, then individual[i] is mated with individual[i+1] which is the next individual in the list.\n",
    "\n",
    "*   *Mutation:*\n",
    "For mutation, the provided .mutUniformInt() mutation tool was used. It mutates an individual by replacing its attributes, the advantage of this is that it allows us to set an upper bound and lower bound, ensuring that the previous contrainsts for x and y are still followed.\n",
    "\n",
    "*   *Crossover:*\n",
    "for crossover, a simple one-point cross over was employed using the provided .cxOnePoint() mating tool. This interchanges the points between two parents.\n",
    "\n",
    "*  *Survival selection:*\n",
    "In order to select the survivors, tournament selection was employed between 3 individuals. The provided .selTournament() selection tool was used. The evalutation function contained the given objective function."
   ]
  },
  {
   "cell_type": "markdown",
   "metadata": {},
   "source": [
    "**CODE:**"
   ]
  },
  {
   "cell_type": "code",
   "execution_count": 1,
   "metadata": {},
   "outputs": [
    {
     "name": "stdout",
     "output_type": "stream",
     "text": [
      "* Population size: 1000 => Best points: (0, 0)\n",
      "\n",
      "* Population size: 500 => Best points: (0, 1)\n",
      "\n",
      "* Population size: 333 => Best points: (0, 0)\n",
      "\n",
      "* Population size: 250 => Best points: (0, 0)\n",
      "\n",
      "* Population size: 200 => Best points: (1, 0)\n",
      "\n",
      "* Population size: 166 => Best points: (0, 0)\n",
      "\n",
      "* Population size: 142 => Best points: (-2, -1)\n",
      "\n",
      "* Population size: 125 => Best points: (-1, 0)\n",
      "\n",
      "* Population size: 111 => Best points: (0, 1)\n",
      "\n",
      "* Population size: 100 => Best points: (0, -1)\n",
      "\n",
      "2.015625\n"
     ]
    }
   ],
   "source": [
    "import random, math, time\n",
    "from deap import algorithms, base, creator, tools\n",
    "\n",
    "creator.create(\"FitnessMin\", base.Fitness, weights=(-1.0,))\n",
    "creator.create(\"Individual\", list, fitness=creator.FitnessMin)\n",
    "\n",
    "# Evalutaion function using the objective function\n",
    "# (|x| + |y|) · (1 + |sin(|x| · π)| + |sin(|y| · π)|) \n",
    "def eval(individual):\n",
    "    x = individual[0]\n",
    "    y = individual[1]\n",
    "    ret = (abs(x) + abs(y)) * (1 + abs(math.sin(abs(x) * math.pi)) + abs(math.sin(abs(y) * math.pi)))\n",
    "    return (ret,)\n",
    "\n",
    "# Custom initRepeat that takes in n as parameter for the function being called\n",
    "def customInitRepeat(container, func, n):\n",
    "    return container(func(n) for n in range(n))\n",
    "\n",
    "# Returns an integer x, wherein -60 <= x <= 40 if its the first elements and -30 <= x <= 70 if it is the second element\n",
    "def createAttribute(n):\n",
    "    return random.randint(-60, 40) if n == 0 else random.randint(-30, 70)\n",
    "\n",
    "toolbox = base.Toolbox()\n",
    "\n",
    "IND_SIZE = 2 # x and y\n",
    "\n",
    "toolbox.register(\"attr_bool\", createAttribute)\n",
    "toolbox.register(\"individual\", customInitRepeat, creator.Individual, toolbox.attr_bool, IND_SIZE)\n",
    "toolbox.register(\"population\", tools.initRepeat, list, toolbox.individual)\n",
    "\n",
    "toolbox.register(\"evaluate\", eval)\n",
    "toolbox.register(\"mate\", tools.cxOnePoint)\n",
    "toolbox.register(\"mutate\", tools.mutUniformInt, low = [-60, -30], up = [30, 70], indpb=1)\n",
    "toolbox.register(\"select\", tools.selTournament, tournsize=3)\n",
    "\n",
    "for i in range(10):\n",
    "    popSize = int(2000/(2*(i+1)))\n",
    "    pop = toolbox.population(n=popSize)\n",
    "    result = algorithms.eaSimple(pop, toolbox, cxpb=0.5, mutpb=0.2, ngen=10, verbose=False)\n",
    "    print(f'* Population size: {popSize} => Best points: ({tools.selBest(pop, k=1)[0][0]}, {tools.selBest(pop, k=1)[0][1]})') \n",
    "    print()\n",
    "\n",
    "print(time.process_time())"
   ]
  },
  {
   "cell_type": "markdown",
   "metadata": {},
   "source": [
    "**Result of the 10 Runs:**\n",
    "\n",
    "* Population size: 1000 => Best points: (0, 0)\n",
    "\n",
    "* Population size: 500 => Best points: (0, 0)\n",
    "\n",
    "* Population size: 333 => Best points: (0, 0)\n",
    "\n",
    "* Population size: 250 => Best points: (0, 0)\n",
    " \n",
    "* Population size: 200 => Best points: (0, 0)\n",
    " \n",
    "* Population size: 166 => Best points: (0, 0)\n",
    " \n",
    "* Population size: 142 => Best points: (0, 0)\n",
    " \n",
    "* Population size: 125 => Best points: (0, -1)\n",
    " \n",
    "* Population size: 111 => Best points: (0, 0)\n",
    " \n",
    "* Population size: 100 => Best points: (0, 0)\n",
    "\n",
    "CPU RUNTIME: 0.59375"
   ]
  },
  {
   "cell_type": "markdown",
   "metadata": {},
   "source": [
    "# **Problem 2**"
   ]
  },
  {
   "cell_type": "markdown",
   "metadata": {},
   "source": [
    "The only change made for the second problem is the updated evaluation function caused by the updated objective function. The same problem formulation was implemented with the same 10 populations."
   ]
  },
  {
   "cell_type": "markdown",
   "metadata": {},
   "source": [
    "**Updated evaluation funtion:**"
   ]
  },
  {
   "cell_type": "code",
   "execution_count": 2,
   "metadata": {},
   "outputs": [],
   "source": [
    "def eval(individual):\n",
    "    x = individual[0]\n",
    "    y = individual[1]\n",
    "    ret = (abs(x) + abs(y)) * (1 + abs(math.sin(3 * abs(x) * math.pi)) + abs(math.sin(3 * abs(y) * math.pi)))\n",
    "    return (ret,)"
   ]
  },
  {
   "cell_type": "markdown",
   "metadata": {},
   "source": [
    "**Result of the 10 Runs:**\n",
    "\n",
    "* Population size: 1000 => Best points: (0, 0)\n",
    "\n",
    "* Population size: 500 => Best points: (0, 0)\n",
    "\n",
    "* Population size: 333 => Best points: (-1, 0)\n",
    "\n",
    "* Population size: 250 => Best points: (0, 1)\n",
    "\n",
    "* Population size: 200 => Best points: (-1, 0)\n",
    "\n",
    "* Population size: 166 => Best points: (0, 0)\n",
    "\n",
    "* Population size: 142 => Best points: (0, 0)\n",
    "\n",
    "* Population size: 125 => Best points: (0, -1)\n",
    "\n",
    "* Population size: 111 => Best points: (0, 0)\n",
    "\n",
    "* Population size: 100 => Best points: (4, 2)\n",
    "\n",
    "CPU RUNTIME: 0.703125"
   ]
  },
  {
   "cell_type": "markdown",
   "metadata": {},
   "source": [
    "# **Problem 3**"
   ]
  },
  {
   "cell_type": "markdown",
   "metadata": {},
   "source": [
    "* **Minimum Fitness Value**\n",
    "\n",
    "In terms of the best points, both algorithms arrived at the best point at some point within the 10 runs. However, it can be noticed that the runs with the lower number of local optima performed better since it arrived at the optimal point 9 times out of the 10 runs, while the runs with the higher number of local optima arrived only 5 times out of 10. \n",
    "\n",
    "* **Maximum Fitness Value**\n",
    "\n",
    "It was mentioned that there were some runs that did not arrive to the optimum point. Despite this, however, the values produced by the runs that did not arrive to the optimal points still had points very close to the optimal point. But, when comparing the two, the runs with fewer local optima had a minimum fitness value of 1.0000000000000002 while the runs with more local optima had a higher maximum fitness of 6.000000000000013.\n",
    "\n",
    "* **Process Time**\n",
    "\n",
    "In terms of CPU process time, the runs with fewer local optima also performed better by finishing the runs in 0.59375 seconds. The runs with more local optima finished executing within 0.703125 seconds.\n",
    "\n",
    "\n",
    "**Conclusion:**\n",
    "\n",
    "Overall, the runs with the easier objective function, the one with fewer local optima, was able to performed better by achieving the optimum value more times, having a lower maximum fitness value, and having a lower process time."
   ]
  }
 ],
 "metadata": {
  "kernelspec": {
   "display_name": "Python 3",
   "language": "python",
   "name": "python3"
  },
  "language_info": {
   "codemirror_mode": {
    "name": "ipython",
    "version": 3
   },
   "file_extension": ".py",
   "mimetype": "text/x-python",
   "name": "python",
   "nbconvert_exporter": "python",
   "pygments_lexer": "ipython3",
   "version": "3.12.0"
  }
 },
 "nbformat": 4,
 "nbformat_minor": 2
}
