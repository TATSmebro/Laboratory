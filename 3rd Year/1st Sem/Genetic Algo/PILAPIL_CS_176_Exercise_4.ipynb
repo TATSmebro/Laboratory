{
 "cells": [
  {
   "cell_type": "markdown",
   "metadata": {},
   "source": [
    "## **PROBLEM 1**"
   ]
  },
  {
   "cell_type": "markdown",
   "metadata": {},
   "source": [
    "**Problem Formulation:**\n",
    "*   *Representation:*\n",
    "For this problem, I chose to represent each individuals using a list which contains two integer values representing the x and y points. Both points are subject to the following upon initialization: −60 ≤ x ≤ 40, −30 ≤ y ≤ 70. To achieve this, a customInitRepeat() function was created as well as a createAttribute() function.\n",
    "\n",
    "*   *Parenthood selection:*\n",
    "For the parent selection, the program uses the varAnd() function which iterates over the offspring and produces a random number each iteration. If said number is less than the crossover probability, then individual[i] is mated with individual[i+1] which is the next individual in the list.\n",
    "\n",
    "*   *Mutation:*\n",
    "For mutation, the provided .mutUniformInt() mutation tool was used. It mutates an individual by replacing its attributes, the advantage of this is that it allows us to set an upper bound and lower bound, ensuring that the previous contrainsts for x and y are still followed.\n",
    "\n",
    "*   *Crossover:*\n",
    "for crossover, a simple one-point cross over was employed using the provided .cxOnePoint() mating tool. This interchanges the points between two parents.\n",
    "\n",
    "*  *Survival selection:*\n",
    "In order to select the survivors, 2-way tournament selection was used. The provided .selTournament() selection tool was utilized. The evalutation function contained the given objective function."
   ]
  },
  {
   "cell_type": "markdown",
   "metadata": {},
   "source": [
    "### Initializations and functions"
   ]
  },
  {
   "cell_type": "code",
   "execution_count": 29,
   "metadata": {},
   "outputs": [],
   "source": [
    "import random, math, time\n",
    "from deap import algorithms, base, creator, tools\n",
    "\n",
    "creator.create(\"FitnessMin\", base.Fitness, weights=(-1.0,))\n",
    "creator.create(\"Individual\", list, fitness=creator.FitnessMin)\n",
    "\n",
    "# Evalutaion function using the objective function\n",
    "# (|x| + |y|) · (1 + |sin(|x| · π)| + |sin(|y| · π)|) \n",
    "def eval(individual):\n",
    "    x = individual[0]\n",
    "    y = individual[1]\n",
    "    ret = (abs(x) + abs(y)) * (1 + abs(math.sin(abs(x) * math.pi)) + abs(math.sin(abs(y) * math.pi)))\n",
    "    return (ret,)\n",
    "\n",
    "# Evalutaion function using the objective function\n",
    "# (|x| + |y|) · (1 + |sin(3 · |x| · π)| + |sin(3 · |y| · π)|) \n",
    "def eval2(individual):\n",
    "    x = individual[0]\n",
    "    y = individual[1]\n",
    "    ret = (abs(x) + abs(y)) * (1 + abs(math.sin(3 * abs(x) * math.pi)) + abs(math.sin(3 * abs(y) * math.pi)))\n",
    "    return (ret,)\n",
    "\n",
    "# Custom initRepeat that takes in n as parameter for the function being called\n",
    "def customInitRepeat(container, func, n):\n",
    "    return container(func(n) for n in range(n))\n",
    "\n",
    "# Returns an integer x, wherein -60 <= x <= 40 if its the first elements and -30 <= x <= 70 if it is the second element\n",
    "def createAttribute(n):\n",
    "    return random.randint(-60, 40) if n == 0 else random.randint(-30, 70)\n",
    "\n",
    "# hill-climb local search on each individual in population\n",
    "def local_search(initPop):\n",
    "    # operations on x and y: +_, _+, -_, _-\n",
    "    pop = []\n",
    "\n",
    "    for ind in initPop:\n",
    "        x = ind[0]\n",
    "        y = ind[1]\n",
    "        pop.append(creator.Individual([x + 1, y]))\n",
    "        pop.append(creator.Individual([x - 1, y]))\n",
    "        pop.append(creator.Individual([x, y + 1]))\n",
    "        pop.append(creator.Individual([x, y - 1]))\n",
    "    \n",
    "    return pop\n",
    "\n",
    "toolbox = base.Toolbox()\n",
    "\n",
    "IND_SIZE = 2 # x and y\n",
    "\n",
    "toolbox.register(\"attr_bool\", createAttribute)\n",
    "toolbox.register(\"individual\", customInitRepeat, creator.Individual, toolbox.attr_bool, IND_SIZE)\n",
    "toolbox.register(\"population\", tools.initRepeat, list, toolbox.individual)\n",
    "\n",
    "toolbox.register(\"evaluate\", eval)\n",
    "toolbox.register(\"mate\", tools.cxOnePoint)\n",
    "toolbox.register(\"mutate\", tools.mutUniformInt, low = [-60, -30], up = [30, 70], indpb=1)\n",
    "toolbox.register(\"select\", tools.selTournament, tournsize=2)"
   ]
  },
  {
   "cell_type": "markdown",
   "metadata": {},
   "source": [
    "### Random initialization (with different random initial populations)"
   ]
  },
  {
   "cell_type": "code",
   "execution_count": 30,
   "metadata": {},
   "outputs": [
    {
     "name": "stdout",
     "output_type": "stream",
     "text": [
      "* Population size: 100 => Best points: (0, 1)\n",
      "\n",
      "* Population size: 100 => Best points: (0, 0)\n",
      "\n",
      "* Population size: 100 => Best points: (0, 1)\n",
      "\n",
      "* Population size: 100 => Best points: (0, 1)\n",
      "\n",
      "* Population size: 100 => Best points: (0, 0)\n",
      "\n",
      "* Population size: 100 => Best points: (-1, 0)\n",
      "\n",
      "* Population size: 100 => Best points: (0, 0)\n",
      "\n",
      "* Population size: 100 => Best points: (0, -2)\n",
      "\n",
      "* Population size: 100 => Best points: (0, 0)\n",
      "\n",
      "* Population size: 100 => Best points: (2, 2)\n",
      "\n"
     ]
    }
   ],
   "source": [
    "for i in range(10):\n",
    "    popSize = 100\n",
    "    pop = toolbox.population(n=popSize)\n",
    "    result = algorithms.eaSimple(pop, toolbox, cxpb=0.5, mutpb=0.2, ngen=20, verbose=False)\n",
    "    print(f'* Population size: {popSize} => Best points: ({tools.selBest(pop, k=1)[0][0]}, {tools.selBest(pop, k=1)[0][1]})') \n",
    "    print()"
   ]
  },
  {
   "cell_type": "markdown",
   "metadata": {},
   "source": [
    "### Holding a 2-way tournament selection"
   ]
  },
  {
   "cell_type": "code",
   "execution_count": 31,
   "metadata": {},
   "outputs": [
    {
     "name": "stdout",
     "output_type": "stream",
     "text": [
      "* Population size: 100 => Best points: (-1, 1)\n",
      "\n",
      "* Population size: 100 => Best points: (0, 0)\n",
      "\n",
      "* Population size: 100 => Best points: (0, 1)\n",
      "\n",
      "* Population size: 100 => Best points: (-1, 0)\n",
      "\n",
      "* Population size: 100 => Best points: (-1, -1)\n",
      "\n",
      "* Population size: 100 => Best points: (-1, 0)\n",
      "\n",
      "* Population size: 100 => Best points: (0, 0)\n",
      "\n",
      "* Population size: 100 => Best points: (0, -1)\n",
      "\n",
      "* Population size: 100 => Best points: (-1, -1)\n",
      "\n",
      "* Population size: 100 => Best points: (1, 1)\n",
      "\n"
     ]
    }
   ],
   "source": [
    "for i in range(10):\n",
    "    initPopSize = 200\n",
    "    popSize = 100\n",
    "    pop = toolbox.population(n=initPopSize)\n",
    "    pop = toolbox.select(pop, popSize)\n",
    "    result = algorithms.eaSimple(pop, toolbox, cxpb=0.5, mutpb=0.2, ngen=20, verbose=False)\n",
    "    print(f'* Population size: {popSize} => Best points: ({tools.selBest(pop, k=1)[0][0]}, {tools.selBest(pop, k=1)[0][1]})') \n",
    "    print()"
   ]
  },
  {
   "cell_type": "markdown",
   "metadata": {},
   "source": [
    "### Multi-Start Local Search"
   ]
  },
  {
   "cell_type": "markdown",
   "metadata": {},
   "source": [
    "initial population is 25, perform local serach on each individual by moving one unit. 4 directions means 4 offspring from local search. Populate a new list with this method then it should result in a population of 100. Use this as initial population for EA."
   ]
  },
  {
   "cell_type": "code",
   "execution_count": 32,
   "metadata": {},
   "outputs": [
    {
     "name": "stdout",
     "output_type": "stream",
     "text": [
      "* Population size: 100 => Best points: (0, -1)\n",
      "\n",
      "* Population size: 100 => Best points: (0, 1)\n",
      "\n",
      "* Population size: 100 => Best points: (0, 1)\n",
      "\n",
      "* Population size: 100 => Best points: (0, 0)\n",
      "\n",
      "* Population size: 100 => Best points: (0, 0)\n",
      "\n",
      "* Population size: 100 => Best points: (1, 0)\n",
      "\n",
      "* Population size: 100 => Best points: (2, 0)\n",
      "\n",
      "* Population size: 100 => Best points: (0, 0)\n",
      "\n",
      "* Population size: 100 => Best points: (0, -1)\n",
      "\n",
      "* Population size: 100 => Best points: (-1, -1)\n",
      "\n"
     ]
    }
   ],
   "source": [
    "for i in range(10):\n",
    "    initPopSize = 25\n",
    "    pop = toolbox.population(n=initPopSize)\n",
    "    pop = local_search(pop)\n",
    "    result = algorithms.eaSimple(pop, toolbox, cxpb=0.5, mutpb=0.2, ngen=20, verbose=False)\n",
    "    print(f'* Population size: {len(pop)} => Best points: ({tools.selBest(pop, k=1)[0][0]}, {tools.selBest(pop, k=1)[0][1]})') \n",
    "    print()"
   ]
  },
  {
   "cell_type": "markdown",
   "metadata": {},
   "source": [
    "## **PROBLEM 2**"
   ]
  },
  {
   "cell_type": "code",
   "execution_count": 33,
   "metadata": {},
   "outputs": [],
   "source": [
    "# Uses the evaluation function for problem 2\n",
    "toolbox.register(\"evaluate\", eval2)"
   ]
  },
  {
   "cell_type": "markdown",
   "metadata": {},
   "source": [
    "### Random initialization (with different random initial populations)"
   ]
  },
  {
   "cell_type": "code",
   "execution_count": 34,
   "metadata": {},
   "outputs": [
    {
     "name": "stdout",
     "output_type": "stream",
     "text": [
      "* Population size: 100 => Best points: (0, 0)"
     ]
    },
    {
     "name": "stdout",
     "output_type": "stream",
     "text": [
      "\n",
      "\n",
      "* Population size: 100 => Best points: (0, 0)\n",
      "\n",
      "* Population size: 100 => Best points: (0, 0)\n",
      "\n",
      "* Population size: 100 => Best points: (0, 0)\n",
      "\n",
      "* Population size: 100 => Best points: (0, 0)\n",
      "\n",
      "* Population size: 100 => Best points: (1, -1)\n",
      "\n",
      "* Population size: 100 => Best points: (-1, -1)\n",
      "\n",
      "* Population size: 100 => Best points: (0, 0)\n",
      "\n",
      "* Population size: 100 => Best points: (0, 0)\n",
      "\n",
      "* Population size: 100 => Best points: (0, 1)\n",
      "\n"
     ]
    }
   ],
   "source": [
    "for i in range(10):\n",
    "    popSize = 100\n",
    "    pop = toolbox.population(n=popSize)\n",
    "    result = algorithms.eaSimple(pop, toolbox, cxpb=0.5, mutpb=0.2, ngen=20, verbose=False)\n",
    "    print(f'* Population size: {popSize} => Best points: ({tools.selBest(pop, k=1)[0][0]}, {tools.selBest(pop, k=1)[0][1]})') \n",
    "    print()"
   ]
  },
  {
   "cell_type": "markdown",
   "metadata": {},
   "source": [
    "### Holding a 2-way tournament selection"
   ]
  },
  {
   "cell_type": "code",
   "execution_count": 35,
   "metadata": {},
   "outputs": [
    {
     "name": "stdout",
     "output_type": "stream",
     "text": [
      "* Population size: 100 => Best points: (0, 0)\n",
      "\n",
      "* Population size: 100 => Best points: (0, 0)\n",
      "\n",
      "* Population size: 100 => Best points: (2, 0)\n",
      "\n",
      "* Population size: 100 => Best points: (0, -1)\n",
      "\n",
      "* Population size: 100 => Best points: (0, 0)\n",
      "\n",
      "* Population size: 100 => Best points: (0, -1)\n",
      "\n",
      "* Population size: 100 => Best points: (0, 0)\n",
      "\n",
      "* Population size: 100 => Best points: (1, 0)\n",
      "\n",
      "* Population size: 100 => Best points: (0, 0)\n",
      "\n",
      "* Population size: 100 => Best points: (0, -1)\n",
      "\n"
     ]
    }
   ],
   "source": [
    "for i in range(10):\n",
    "    initPopSize = 200\n",
    "    popSize = 100\n",
    "    pop = toolbox.population(n=initPopSize)\n",
    "    pop = toolbox.select(pop, popSize)\n",
    "    result = algorithms.eaSimple(pop, toolbox, cxpb=0.5, mutpb=0.2, ngen=20, verbose=False)\n",
    "    print(f'* Population size: {popSize} => Best points: ({tools.selBest(pop, k=1)[0][0]}, {tools.selBest(pop, k=1)[0][1]})') \n",
    "    print()"
   ]
  },
  {
   "cell_type": "markdown",
   "metadata": {},
   "source": [
    "### Multi-Start Local Search"
   ]
  },
  {
   "cell_type": "code",
   "execution_count": 36,
   "metadata": {},
   "outputs": [
    {
     "name": "stdout",
     "output_type": "stream",
     "text": [
      "* Population size: 100 => Best points: (1, 0)\n",
      "\n",
      "* Population size: 100 => Best points: (0, 0)\n",
      "\n",
      "* Population size: 100 => Best points: (0, 0)\n",
      "\n",
      "* Population size: 100 => Best points: (0, 1)\n",
      "\n",
      "* Population size: 100 => Best points: (-1, 0)\n",
      "\n",
      "* Population size: 100 => Best points: (0, 0)\n",
      "\n",
      "* Population size: 100 => Best points: (0, -2)\n",
      "\n",
      "* Population size: 100 => Best points: (0, 0)\n",
      "\n",
      "* Population size: 100 => Best points: (0, 0)\n",
      "\n",
      "* Population size: 100 => Best points: (0, -1)\n",
      "\n"
     ]
    }
   ],
   "source": [
    "for i in range(10):\n",
    "    initPopSize = 25\n",
    "    pop = toolbox.population(n=initPopSize)\n",
    "    pop = local_search(pop)\n",
    "    result = algorithms.eaSimple(pop, toolbox, cxpb=0.5, mutpb=0.2, ngen=20, verbose=False)\n",
    "    print(f'* Population size: {len(pop)} => Best points: ({tools.selBest(pop, k=1)[0][0]}, {tools.selBest(pop, k=1)[0][1]})') \n",
    "    print()"
   ]
  },
  {
   "cell_type": "markdown",
   "metadata": {},
   "source": [
    "## **PROBLEM 3**"
   ]
  },
  {
   "cell_type": "markdown",
   "metadata": {},
   "source": [
    "*Analysis on Runtime:* \n",
    "The increase in the number of local optima seems to have affected Multi-Start local. Increasing the number of local optima resulted in longer run times due to increased exploration costs, convergence challenges, larger search space sizes, algorithm sensitivity, and potential divergence in solution quality. \n",
    "\n",
    "*Analysis on fitness values:*\n",
    "In terms of the fitness values of the 3 approaches, regardless of the number of local optima, there was no significant difference in the fitness values of the best individuals that resulted in all of the runs. Perhaps, lessening the number of generations might amplify the difference among the different approaches.\n",
    "\n",
    "*Analysis on convergence rate:*\n",
    "In terms of convergence rate, the 2-way tournament selection, when employed on the first problem (less local optima) seems to arrive at the solution the least amount of times. This is not the predicted behavior and is a glimpse to the stochastic nature of EA's.\n",
    "\n",
    "**Summary**\n",
    "\n",
    "Increasing the number of local optima in Multi-Start local search adversely impacted runtime due to amplified exploration costs, convergence challenges, larger search space sizes, algorithm sensitivity, and potential variability in solution quality. However, fitness values among the three approaches showed no significant difference regardless of local optima count. Adjusting the number of generations might accentuate differences. The convergence rate analysis revealed unexpected behavior with 2-way tournament selection showing lower solution arrivals in the first problem (fewer local optima), highlighting the stochastic nature of Evolutionary Algorithms (EAs). "
   ]
  }
 ],
 "metadata": {
  "kernelspec": {
   "display_name": "Python 3",
   "language": "python",
   "name": "python3"
  },
  "language_info": {
   "codemirror_mode": {
    "name": "ipython",
    "version": 3
   },
   "file_extension": ".py",
   "mimetype": "text/x-python",
   "name": "python",
   "nbconvert_exporter": "python",
   "pygments_lexer": "ipython3",
   "version": "3.12.0"
  }
 },
 "nbformat": 4,
 "nbformat_minor": 2
}
